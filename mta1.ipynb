{
 "cells": [
  {
   "cell_type": "code",
   "execution_count": 1,
   "id": "7ce0b66a-c813-4622-b340-812f8793df6f",
   "metadata": {},
   "outputs": [
    {
     "data": {
      "text/plain": [
       "\"Concurrency: Multithreading enables a program to perform multiple tasks concurrently, making efficient use of available resources and reducing overall execution time.\\nParallelism: Although Python's Global Interpreter Lock (GIL) limits true parallel execution of threads, multithreading can still be useful for tasks that are I/O bound (such as network requests or file operations), allowing the program to continue execution while waiting for I/O operations to complete.\\nResource sharing: Threads can share data and resources within a program, allowing them to communicate and cooperate with each other. This enables efficient data sharing and synchronization between different parts of the program.\""
      ]
     },
     "execution_count": 1,
     "metadata": {},
     "output_type": "execute_result"
    }
   ],
   "source": [
    "#que1\n",
    "#Multithreading in Python refers to the ability of a program to execute multiple threads concurrently.\n",
    "\"\"\"Concurrency: Multithreading enables a program to perform multiple tasks concurrently, making efficient use of available resources and reducing overall execution time.\n",
    "Parallelism: Although Python's Global Interpreter Lock (GIL) limits true parallel execution of threads, multithreading can still be useful for tasks that are I/O bound (such as network requests or file operations), allowing the program to continue execution while waiting for I/O operations to complete.\n",
    "Resource sharing: Threads can share data and resources within a program, allowing them to communicate and cooperate with each other. This enables efficient data sharing and synchronization between different parts of the program.\"\"\""
   ]
  },
  {
   "cell_type": "code",
   "execution_count": 2,
   "id": "a6719ca8-3640-4328-a415-feecf2373343",
   "metadata": {},
   "outputs": [
    {
     "data": {
      "text/plain": [
       "\"activeCount(): This function is used to obtain the number of Thread objects currently alive. It returns the current number of active threads in the program, including the main thread. The function does not require any arguments.\\ncurrentThread(): This function returns the current Thread object corresponding to the caller's thread of control. It is useful when you need to access the properties or manipulate the current thread.\\nenumerate(): This function returns a list of all currently active Thread objects in the program. It is useful when you want to obtain a list of all threads for monitoring or manipulation purposes.\""
      ]
     },
     "execution_count": 2,
     "metadata": {},
     "output_type": "execute_result"
    }
   ],
   "source": [
    "#que 2\n",
    "#The threading module in Python is used to create, manage, and synchronize threads in a program. It provides classes and functions to work with threads and allows you to implement concurrent operations.\n",
    "\"\"\"activeCount(): This function is used to obtain the number of Thread objects currently alive. It returns the current number of active threads in the program, including the main thread. The function does not require any arguments.\n",
    "currentThread(): This function returns the current Thread object corresponding to the caller's thread of control. It is useful when you need to access the properties or manipulate the current thread.\n",
    "enumerate(): This function returns a list of all currently active Thread objects in the program. It is useful when you want to obtain a list of all threads for monitoring or manipulation purposes.\"\"\""
   ]
  },
  {
   "cell_type": "code",
   "execution_count": 7,
   "id": "0cb55045-2b5d-432b-861f-24f3aeeccf40",
   "metadata": {},
   "outputs": [
    {
     "name": "stdout",
     "output_type": "stream",
     "text": [
      "Thread is running\n",
      "Thread is running\n",
      "Thread has finished\n",
      "Program execution continues\n"
     ]
    }
   ],
   "source": [
    "#que 3\n",
    "import threading\n",
    "\n",
    "class MyThread(threading.Thread):\n",
    "    def run(self):\n",
    "        # Code to be executed by the thread\n",
    "        print(\"Thread is running\")\n",
    "\n",
    "thread = MyThread()\n",
    "thread.run()  \n",
    "\n",
    "import threading\n",
    "\n",
    "def my_function():\n",
    "    # Code to be executed by the thread\n",
    "    print(\"Thread is running\")\n",
    "\n",
    "thread = threading.Thread(target=my_function)\n",
    "thread.start()  \n",
    "\n",
    "import threading\n",
    "import time\n",
    "\n",
    "def my_function():\n",
    "    # Code to be executed by the thread\n",
    "    time.sleep(3)  # Simulating some work\n",
    "    print(\"Thread has finished\")\n",
    "\n",
    "thread = threading.Thread(target=my_function)\n",
    "thread.start()\n",
    "thread.join()  # Waits for the thread to finish before proceeding\n",
    "print(\"Program execution continues\")\n",
    "\n"
   ]
  },
  {
   "cell_type": "code",
   "execution_count": 8,
   "id": "4b7c3b60-71a1-4cbe-83a3-d7bfe1776725",
   "metadata": {},
   "outputs": [
    {
     "name": "stdout",
     "output_type": "stream",
     "text": [
      "List of squares: [1, 4, 9, 16, 25]\n",
      "List of cubes: [1, 8, 27, 64, 125]\n",
      "Program execution continues...\n"
     ]
    }
   ],
   "source": [
    "#que 4\n",
    "import threading\n",
    "\n",
    "def print_squares():\n",
    "    squares = [num ** 2 for num in range(1, 6)]\n",
    "    print(\"List of squares:\", squares)\n",
    "\n",
    "def print_cubes():\n",
    "    cubes = [num ** 3 for num in range(1, 6)]\n",
    "    print(\"List of cubes:\", cubes)\n",
    "\n",
    "# Create the first thread for printing squares\n",
    "thread1 = threading.Thread(target=print_squares)\n",
    "\n",
    "# Create the second thread for printing cubes\n",
    "thread2 = threading.Thread(target=print_cubes)\n",
    "\n",
    "# Start both threads\n",
    "thread1.start()\n",
    "thread2.start()\n",
    "\n",
    "# Wait for both threads to finish\n",
    "thread1.join()\n",
    "thread2.join()\n",
    "\n",
    "print(\"Program execution continues...\")\n"
   ]
  },
  {
   "cell_type": "code",
   "execution_count": null,
   "id": "cbd8833c-560b-4485-898e-6369d5aa419d",
   "metadata": {},
   "outputs": [],
   "source": [
    "#que 5\n",
    "#Advantages of Multithreading:\n",
    "\"\"\"Concurrency and Responsiveness\n",
    "Improved Performance\n",
    "Resource Sharing and Efficiency\n",
    "Simplified Programming\"\"\"\n",
    "\n",
    "#Disadvantages of Multithreading:\n",
    "\"\"\"Complexity and Synchronization\"\"\""
   ]
  }
 ],
 "metadata": {
  "kernelspec": {
   "display_name": "Python 3 (ipykernel)",
   "language": "python",
   "name": "python3"
  },
  "language_info": {
   "codemirror_mode": {
    "name": "ipython",
    "version": 3
   },
   "file_extension": ".py",
   "mimetype": "text/x-python",
   "name": "python",
   "nbconvert_exporter": "python",
   "pygments_lexer": "ipython3",
   "version": "3.10.8"
  }
 },
 "nbformat": 4,
 "nbformat_minor": 5
}
